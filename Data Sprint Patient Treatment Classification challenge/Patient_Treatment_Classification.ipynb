{
  "nbformat": 4,
  "nbformat_minor": 0,
  "metadata": {
    "colab": {
      "name": "Patient Treatment Classification.ipynb",
      "provenance": [],
      "collapsed_sections": []
    },
    "kernelspec": {
      "name": "python3",
      "display_name": "Python 3"
    }
  },
  "cells": [
    {
      "cell_type": "markdown",
      "metadata": {
        "id": "mgPA0NJr1oNJ"
      },
      "source": [
        "## Importing Required packages"
      ]
    },
    {
      "cell_type": "code",
      "metadata": {
        "id": "f9opUEhs1nTM"
      },
      "source": [
        "import pandas as pd\n",
        "import numpy as np\n",
        "from collections import Counter\n",
        "from sklearn.metrics import f1_score\n",
        "from sklearn.model_selection import train_test_split \n",
        "from sklearn.model_selection import StratifiedKFold\n",
        "import seaborn as sns\n",
        "import matplotlib.pyplot as plt\n",
        "from sklearn.linear_model import LogisticRegression\n",
        "from sklearn.ensemble import RandomForestClassifier\n",
        "from sklearn.ensemble import VotingClassifier\n",
        "from lightgbm import LGBMClassifier\n",
        "import warnings\n",
        "warnings.filterwarnings(\"ignore\")"
      ],
      "execution_count": 210,
      "outputs": []
    },
    {
      "cell_type": "markdown",
      "metadata": {
        "id": "jHW_TQJ11bXM"
      },
      "source": [
        "## Load the dataset"
      ]
    },
    {
      "cell_type": "code",
      "metadata": {
        "id": "mYyuev6RebQr",
        "outputId": "d9eda20e-557c-484d-de87-e8501d5c5293",
        "colab": {
          "base_uri": "https://localhost:8080/"
        }
      },
      "source": [
        "!git clone https://github.com/dphi-official/Datasets.git"
      ],
      "execution_count": null,
      "outputs": [
        {
          "output_type": "stream",
          "text": [
            "Cloning into 'Datasets'...\n",
            "remote: Enumerating objects: 10001, done.\u001b[K\n",
            "remote: Total 10001 (delta 0), reused 0 (delta 0), pack-reused 10001\u001b[K\n",
            "Receiving objects: 100% (10001/10001), 439.23 MiB | 20.82 MiB/s, done.\n",
            "Resolving deltas: 100% (145/145), done.\n",
            "Checking out files: 100% (9367/9367), done.\n"
          ],
          "name": "stdout"
        }
      ]
    },
    {
      "cell_type": "code",
      "metadata": {
        "id": "wlYyCKfKfWbz",
        "outputId": "e9ac7ae7-2097-44bd-9b82-1dd589324ffe",
        "colab": {
          "base_uri": "https://localhost:8080/",
          "height": 195
        }
      },
      "source": [
        "train = pd.read_csv('/content/Datasets/patient_treat_class/training_set_label.csv')\n",
        "test = pd.read_csv('/content/Datasets/patient_treat_class/testing_set_label.csv')\n",
        "train.head()"
      ],
      "execution_count": 180,
      "outputs": [
        {
          "output_type": "execute_result",
          "data": {
            "text/html": [
              "<div>\n",
              "<style scoped>\n",
              "    .dataframe tbody tr th:only-of-type {\n",
              "        vertical-align: middle;\n",
              "    }\n",
              "\n",
              "    .dataframe tbody tr th {\n",
              "        vertical-align: top;\n",
              "    }\n",
              "\n",
              "    .dataframe thead th {\n",
              "        text-align: right;\n",
              "    }\n",
              "</style>\n",
              "<table border=\"1\" class=\"dataframe\">\n",
              "  <thead>\n",
              "    <tr style=\"text-align: right;\">\n",
              "      <th></th>\n",
              "      <th>HAEMATOCRIT</th>\n",
              "      <th>HAEMOGLOBINS</th>\n",
              "      <th>ERYTHROCYTE</th>\n",
              "      <th>LEUCOCYTE</th>\n",
              "      <th>THROMBOCYTE</th>\n",
              "      <th>MCH</th>\n",
              "      <th>MCHC</th>\n",
              "      <th>MCV</th>\n",
              "      <th>AGE</th>\n",
              "      <th>SEX</th>\n",
              "      <th>SOURCE</th>\n",
              "    </tr>\n",
              "  </thead>\n",
              "  <tbody>\n",
              "    <tr>\n",
              "      <th>0</th>\n",
              "      <td>33.8</td>\n",
              "      <td>11.1</td>\n",
              "      <td>4.18</td>\n",
              "      <td>4.6</td>\n",
              "      <td>150</td>\n",
              "      <td>26.6</td>\n",
              "      <td>32.8</td>\n",
              "      <td>80.9</td>\n",
              "      <td>33</td>\n",
              "      <td>F</td>\n",
              "      <td>1</td>\n",
              "    </tr>\n",
              "    <tr>\n",
              "      <th>1</th>\n",
              "      <td>44.6</td>\n",
              "      <td>14.0</td>\n",
              "      <td>6.86</td>\n",
              "      <td>6.3</td>\n",
              "      <td>232</td>\n",
              "      <td>20.4</td>\n",
              "      <td>31.4</td>\n",
              "      <td>65.0</td>\n",
              "      <td>36</td>\n",
              "      <td>M</td>\n",
              "      <td>0</td>\n",
              "    </tr>\n",
              "    <tr>\n",
              "      <th>2</th>\n",
              "      <td>42.9</td>\n",
              "      <td>14.0</td>\n",
              "      <td>4.57</td>\n",
              "      <td>6.2</td>\n",
              "      <td>336</td>\n",
              "      <td>30.6</td>\n",
              "      <td>32.6</td>\n",
              "      <td>93.9</td>\n",
              "      <td>70</td>\n",
              "      <td>F</td>\n",
              "      <td>0</td>\n",
              "    </tr>\n",
              "    <tr>\n",
              "      <th>3</th>\n",
              "      <td>41.9</td>\n",
              "      <td>14.4</td>\n",
              "      <td>4.67</td>\n",
              "      <td>3.5</td>\n",
              "      <td>276</td>\n",
              "      <td>30.8</td>\n",
              "      <td>34.4</td>\n",
              "      <td>89.7</td>\n",
              "      <td>18</td>\n",
              "      <td>F</td>\n",
              "      <td>0</td>\n",
              "    </tr>\n",
              "    <tr>\n",
              "      <th>4</th>\n",
              "      <td>40.6</td>\n",
              "      <td>13.3</td>\n",
              "      <td>4.85</td>\n",
              "      <td>14.9</td>\n",
              "      <td>711</td>\n",
              "      <td>27.4</td>\n",
              "      <td>32.8</td>\n",
              "      <td>83.7</td>\n",
              "      <td>36</td>\n",
              "      <td>M</td>\n",
              "      <td>0</td>\n",
              "    </tr>\n",
              "  </tbody>\n",
              "</table>\n",
              "</div>"
            ],
            "text/plain": [
              "   HAEMATOCRIT  HAEMOGLOBINS  ERYTHROCYTE  LEUCOCYTE  ...   MCV  AGE  SEX  SOURCE\n",
              "0         33.8          11.1         4.18        4.6  ...  80.9   33    F       1\n",
              "1         44.6          14.0         6.86        6.3  ...  65.0   36    M       0\n",
              "2         42.9          14.0         4.57        6.2  ...  93.9   70    F       0\n",
              "3         41.9          14.4         4.67        3.5  ...  89.7   18    F       0\n",
              "4         40.6          13.3         4.85       14.9  ...  83.7   36    M       0\n",
              "\n",
              "[5 rows x 11 columns]"
            ]
          },
          "metadata": {
            "tags": []
          },
          "execution_count": 180
        }
      ]
    },
    {
      "cell_type": "markdown",
      "metadata": {
        "id": "VmaZtXB714uJ"
      },
      "source": [
        "## EDA"
      ]
    },
    {
      "cell_type": "code",
      "metadata": {
        "id": "XLQpKJPr17l-",
        "outputId": "c9e9cb03-f50b-4f4f-a9c0-15214f2e1229",
        "colab": {
          "base_uri": "https://localhost:8080/"
        }
      },
      "source": [
        "train.info()"
      ],
      "execution_count": 181,
      "outputs": [
        {
          "output_type": "stream",
          "text": [
            "<class 'pandas.core.frame.DataFrame'>\n",
            "RangeIndex: 3309 entries, 0 to 3308\n",
            "Data columns (total 11 columns):\n",
            " #   Column        Non-Null Count  Dtype  \n",
            "---  ------        --------------  -----  \n",
            " 0   HAEMATOCRIT   3309 non-null   float64\n",
            " 1   HAEMOGLOBINS  3309 non-null   float64\n",
            " 2   ERYTHROCYTE   3309 non-null   float64\n",
            " 3   LEUCOCYTE     3309 non-null   float64\n",
            " 4   THROMBOCYTE   3309 non-null   int64  \n",
            " 5   MCH           3309 non-null   float64\n",
            " 6   MCHC          3309 non-null   float64\n",
            " 7   MCV           3309 non-null   float64\n",
            " 8   AGE           3309 non-null   int64  \n",
            " 9   SEX           3309 non-null   object \n",
            " 10  SOURCE        3309 non-null   int64  \n",
            "dtypes: float64(7), int64(3), object(1)\n",
            "memory usage: 284.5+ KB\n"
          ],
          "name": "stdout"
        }
      ]
    },
    {
      "cell_type": "code",
      "metadata": {
        "id": "nVBKYshv3fw7"
      },
      "source": [
        "train['SEX'] = train['SEX'].replace({'M':1,'F':0})\n",
        "test['SEX'] = test['SEX'].replace({'M':1,'F':0})\n",
        "train.head()"
      ],
      "execution_count": null,
      "outputs": []
    },
    {
      "cell_type": "code",
      "metadata": {
        "id": "kTAlOcrc2VvE",
        "outputId": "c5d81c1c-251f-4b20-a883-9779c8d6e17e",
        "colab": {
          "base_uri": "https://localhost:8080/",
          "height": 504
        }
      },
      "source": [
        "corr = train.corrwith(train['SOURCE'],method='spearman').reset_index()\n",
        "\n",
        "corr.columns = ['Index','Correlations']\n",
        "corr = corr.set_index('Index')\n",
        "corr = corr.sort_values(by=['Correlations'], ascending = False).head(10)\n",
        "\n",
        "plt.figure(figsize=(6, 8))\n",
        "fig = sns.heatmap(corr, annot=True, fmt=\"g\", cmap='Set3', linewidths=0.4, linecolor='green')\n",
        "\n",
        "plt.title(\"Correlation of Variables with Class\", fontsize=20)\n",
        "plt.show()"
      ],
      "execution_count": 190,
      "outputs": [
        {
          "output_type": "display_data",
          "data": {
            "image/png": "[encoded data removed]",
            "text/plain": [
              "<Figure size 432x576 with 2 Axes>"
            ]
          },
          "metadata": {
            "tags": [],
            "needs_background": "light"
          }
        }
      ]
    },
    {
      "cell_type": "code",
      "metadata": {
        "id": "PgjMYQQahd-V"
      },
      "source": [
        "col = ['HAEMATOCRIT', 'HAEMOGLOBINS', 'ERYTHROCYTE', 'LEUCOCYTE','THROMBOCYTE', 'MCH', 'MCHC', 'MCV', 'AGE', 'SEX']\n",
        "X = train[col]\n",
        "y = train['SOURCE']"
      ],
      "execution_count": 185,
      "outputs": []
    },
    {
      "cell_type": "code",
      "metadata": {
        "id": "nxcJBCNL3kbq",
        "outputId": "f0aef86e-7077-42e1-d64b-b23557a293eb",
        "colab": {
          "base_uri": "https://localhost:8080/",
          "height": 513
        }
      },
      "source": [
        "print(Counter(train['SOURCE']))\n",
        "fig, ax = plt.subplots(1, 1,figsize=(6,6))\n",
        "fig.subplots_adjust(bottom=0.10, left=0.10, top = 0.900, right=1.00)\n",
        "fig.suptitle(' Target Class Before and After Over Sampling', fontsize = 20)\n",
        "sns.set_palette(\"bright\")\n",
        "sns.countplot(train['SOURCE'], ax=ax)\n",
        "ax.margins(0.1)\n",
        "ax.set_facecolor(\"#e1ddbf\")\n",
        "for p in ax.patches:\n",
        "        ax.annotate('{:.1f}'.format(p.get_height()), (p.get_x()+0.1, p.get_height()+50))\n",
        "sns.set_palette(\"bright\")"
      ],
      "execution_count": 196,
      "outputs": [
        {
          "output_type": "stream",
          "text": [
            "Counter({0: 1992, 1: 1317})\n"
          ],
          "name": "stdout"
        },
        {
          "output_type": "stream",
          "text": [
            "/usr/local/lib/python3.6/dist-packages/seaborn/_decorators.py:43: FutureWarning: Pass the following variable as a keyword arg: x. From version 0.12, the only valid positional argument will be `data`, and passing other arguments without an explicit keyword will result in an error or misinterpretation.\n",
            "  FutureWarning\n"
          ],
          "name": "stderr"
        },
        {
          "output_type": "display_data",
          "data": {
            "image/png": "[encoded data removed]",
            "text/plain": [
              "<Figure size 432x432 with 1 Axes>"
            ]
          },
          "metadata": {
            "tags": [],
            "needs_background": "light"
          }
        }
      ]
    },
    {
      "cell_type": "code",
      "metadata": {
        "id": "WrCWzdtAc19b",
        "outputId": "ec81e48a-ec00-4da3-c39e-78efb77446d0",
        "colab": {
          "base_uri": "https://localhost:8080/"
        }
      },
      "source": [
        "Counter(train['SOURCE'])"
      ],
      "execution_count": null,
      "outputs": [
        {
          "output_type": "execute_result",
          "data": {
            "text/plain": [
              "Counter({0: 1992, 1: 1317})"
            ]
          },
          "metadata": {
            "tags": []
          },
          "execution_count": 7
        }
      ]
    },
    {
      "cell_type": "code",
      "metadata": {
        "id": "o1jgOYNEhpgk"
      },
      "source": [
        "X_train, X_test, y_train, y_test = train_test_split(X, y, test_size=.25, random_state=42,stratify=y,shuffle=True)"
      ],
      "execution_count": 198,
      "outputs": []
    },
    {
      "cell_type": "markdown",
      "metadata": {
        "id": "T7OcZfni9bA1"
      },
      "source": [
        "## LogisticRegression"
      ]
    },
    {
      "cell_type": "code",
      "metadata": {
        "id": "qKi7ABtw44gl",
        "outputId": "92900b36-d022-4a2d-e7eb-2a6d229e0cbb",
        "colab": {
          "base_uri": "https://localhost:8080/"
        }
      },
      "source": [
        "class_weight={0:1,1:1.5125284738041003}\n",
        "lr = LogisticRegression(class_weight=class_weight,random_state=42)\n",
        "lr.fit(X_train,y_train)\n",
        "lr_predicted = lr.predict(X_test)\n",
        "lr_acc_score = f1_score(y_test, lr_predicted)\n",
        "lr_predicted_t =  f1_score(y_train,lr.predict(X_train))\n",
        "print(\"F1 score of Logistic Regression test:\",lr_acc_score*100)\n",
        "print(\"F1 score of  Logistic Regression train:\",lr_predicted_t*100)"
      ],
      "execution_count": 207,
      "outputs": [
        {
          "output_type": "stream",
          "text": [
            "F1 score of Logistic Regression test: 64.41176470588235\n",
            "F1 score of  Logistic Regression train: 64.47497546614326\n"
          ],
          "name": "stdout"
        }
      ]
    },
    {
      "cell_type": "markdown",
      "metadata": {
        "id": "Hj0JTtB99gy0"
      },
      "source": [
        "## RandomForestClassifier"
      ]
    },
    {
      "cell_type": "code",
      "metadata": {
        "id": "oPXopAmovC8l",
        "outputId": "75f29459-5361-4d63-d91f-e8e205932c0f",
        "colab": {
          "base_uri": "https://localhost:8080/"
        }
      },
      "source": [
        "rf = RandomForestClassifier(n_estimators=100, random_state=42,max_depth=3,class_weight=class_weight)\n",
        "rf.fit(X_train,y_train)\n",
        "rf_predicted = rf.predict(X_test)\n",
        "rf_acc_score = f1_score(y_test, rf_predicted)\n",
        "rf_predicted_t =  f1_score(y_train,rf.predict(X_train))\n",
        "print(\"F1 score of Random Forest test:\",rf_acc_score*100)\n",
        "print(\"F1 score of Random Forest train:\",rf_predicted_t*100)\n"
      ],
      "execution_count": 208,
      "outputs": [
        {
          "output_type": "stream",
          "text": [
            "F1 score of Random Forest test: 62.17948717948717\n",
            "F1 score of Random Forest train: 65.7417289220918\n"
          ],
          "name": "stdout"
        }
      ]
    },
    {
      "cell_type": "markdown",
      "metadata": {
        "id": "Ig-rtsGZ9lak"
      },
      "source": [
        "## LGBMClassifier"
      ]
    },
    {
      "cell_type": "code",
      "metadata": {
        "id": "Ve263FxlfVUY",
        "outputId": "5645dc90-0d65-45ad-ae3f-ada5a3a93a52",
        "colab": {
          "base_uri": "https://localhost:8080/"
        }
      },
      "source": [
        "class_weight={0:1,1:1.5125284738041003}\n",
        "cat_col = ['SEX']\n",
        "lgb = LGBMClassifier(n_estimators=500,depth=3,learning_rate=0.01,objective='binary',metric='f1',is_unbalance=True,class_weight=class_weight,\n",
        "                 colsample_bytree=0.5,reg_lambda=2,reg_alpha=2,random_state=42,n_jobs=-1)\n",
        "lgb.fit(X_train,y_train,eval_metric='auc',eval_set=(X , y),verbose=False,categorical_feature=cat_col,early_stopping_rounds= 100)\n",
        "lgb_predicted = lgb.predict(X_test)\n",
        "lgb_predicted_t =  f1_score(y_train,lgb.predict(X_train))\n",
        "lgb_acc_score = f1_score(y_test, lgb_predicted)\n",
        "print(\"F1 score of Light Gradient Boost-test:\",lgb_acc_score*100)\n",
        "print(\"F1 score of Light Gradient Boost-train:\",lgb_predicted_t*100)"
      ],
      "execution_count": 216,
      "outputs": [
        {
          "output_type": "stream",
          "text": [
            "[LightGBM] [Warning] Unknown parameter: depth\n",
            "F1 score of Light Gradient Boost-test: 67.53623188405797\n",
            "F1 score of Light Gradient Boost-train: 82.68968650613357\n"
          ],
          "name": "stdout"
        }
      ]
    },
    {
      "cell_type": "markdown",
      "metadata": {
        "id": "uJhm_taP6fib"
      },
      "source": [
        "## Ensembling : VotingClassifier"
      ]
    },
    {
      "cell_type": "code",
      "metadata": {
        "id": "KAF0NqC-ov0N",
        "outputId": "3a01db8b-66c9-47c4-896f-a28b4579e051",
        "colab": {
          "base_uri": "https://localhost:8080/"
        }
      },
      "source": [
        "classifier=[('LGBM',lgb),('LR',lr),('rf',rf)]\n",
        "vc=VotingClassifier(estimators=classifier,voting='soft')\n",
        "vc.fit(X_train,y_train)\n",
        "vc_predicted = vc.predict(X_test)\n",
        "vc_predicted_t =  f1_score(y_train,vc.predict(X_train))\n",
        "vc_acc_score = f1_score(y_test, vc_predicted)\n",
        "print(\"F1 score of Light Gradient Boost-test:\",vc_acc_score*100)\n",
        "print(\"F1 score of Light Gradient Boost-train:\",vc_predicted_t*100)"
      ],
      "execution_count": 217,
      "outputs": [
        {
          "output_type": "stream",
          "text": [
            "[LightGBM] [Warning] Unknown parameter: depth\n",
            "F1 score of Light Gradient Boost-test: 66.96969696969697\n",
            "F1 score of Light Gradient Boost-train: 74.46393762183234\n"
          ],
          "name": "stdout"
        }
      ]
    },
    {
      "cell_type": "code",
      "metadata": {
        "id": "s7tei-Qn8bGz",
        "outputId": "28dfc5ab-6f01-4429-8ecc-e81cadf78789",
        "colab": {
          "base_uri": "https://localhost:8080/"
        }
      },
      "source": [
        "lr = lr.fit(X,y)\n",
        "rf = rf.fit(X,y)\n",
        "vc = vc.fit(X,y)"
      ],
      "execution_count": 218,
      "outputs": [
        {
          "output_type": "stream",
          "text": [
            "[LightGBM] [Warning] Unknown parameter: depth\n"
          ],
          "name": "stdout"
        }
      ]
    },
    {
      "cell_type": "markdown",
      "metadata": {
        "id": "3b65o98V9x1x"
      },
      "source": [
        "## Final Blending"
      ]
    },
    {
      "cell_type": "code",
      "metadata": {
        "id": "XTjLyoJzjoOv"
      },
      "source": [
        "pred_lgb = lgb.predict_proba(test)[:,1]\n",
        "pred_rf = rf.predict_proba(test)[:,1]\n",
        "pred_vc = vc.predict_proba(test)[:,1]\n",
        "w1 = 0.25\n",
        "w2 = 0.25\n",
        "w3 = 0.5\n",
        "final = (w1*pred_lgb) + (w2*pred_rf) + (w3*pred_vc)\n",
        "test['SOURCE'] = [0 if i<0.4 else 1  for i in final]"
      ],
      "execution_count": 220,
      "outputs": []
    },
    {
      "cell_type": "code",
      "metadata": {
        "id": "owLqmbBJn2GB"
      },
      "source": [
        "submit = pd.DataFrame(test['SOURCE']) \n",
        "submit.index = test.index \n",
        "submit.columns = [\"prediction\"]"
      ],
      "execution_count": 221,
      "outputs": []
    },
    {
      "cell_type": "code",
      "metadata": {
        "id": "XV0RD2dbkCnj",
        "outputId": "98cf3de9-2732-4815-c274-fe55e0348285",
        "colab": {
          "base_uri": "https://localhost:8080/",
          "height": 17
        }
      },
      "source": [
        "from google.colab import files\n",
        "submit.to_csv('submission.csv', index=False)\n",
        "files.download('submission.csv')"
      ],
      "execution_count": 222,
      "outputs": [
        {
          "output_type": "display_data",
          "data": {
            "application/javascript": [
              "\n",
              "    async function download(id, filename, size) {\n",
              "      if (!google.colab.kernel.accessAllowed) {\n",
              "        return;\n",
              "      }\n",
              "      const div = document.createElement('div');\n",
              "      const label = document.createElement('label');\n",
              "      label.textContent = `Downloading \"${filename}\": `;\n",
              "      div.appendChild(label);\n",
              "      const progress = document.createElement('progress');\n",
              "      progress.max = size;\n",
              "      div.appendChild(progress);\n",
              "      document.body.appendChild(div);\n",
              "\n",
              "      const buffers = [];\n",
              "      let downloaded = 0;\n",
              "\n",
              "      const channel = await google.colab.kernel.comms.open(id);\n",
              "      // Send a message to notify the kernel that we're ready.\n",
              "      channel.send({})\n",
              "\n",
              "      for await (const message of channel.messages) {\n",
              "        // Send a message to notify the kernel that we're ready.\n",
              "        channel.send({})\n",
              "        if (message.buffers) {\n",
              "          for (const buffer of message.buffers) {\n",
              "            buffers.push(buffer);\n",
              "            downloaded += buffer.byteLength;\n",
              "            progress.value = downloaded;\n",
              "          }\n",
              "        }\n",
              "      }\n",
              "      const blob = new Blob(buffers, {type: 'application/binary'});\n",
              "      const a = document.createElement('a');\n",
              "      a.href = window.URL.createObjectURL(blob);\n",
              "      a.download = filename;\n",
              "      div.appendChild(a);\n",
              "      a.click();\n",
              "      div.remove();\n",
              "    }\n",
              "  "
            ],
            "text/plain": [
              "<IPython.core.display.Javascript object>"
            ]
          },
          "metadata": {
            "tags": []
          }
        },
        {
          "output_type": "display_data",
          "data": {
            "application/javascript": [
              "download(\"download_2d2e2e10-d82e-4b8e-bde2-fe8ef299c462\", \"submission.csv\", 2217)"
            ],
            "text/plain": [
              "<IPython.core.display.Javascript object>"
            ]
          },
          "metadata": {
            "tags": []
          }
        }
      ]
    }
  ]
}